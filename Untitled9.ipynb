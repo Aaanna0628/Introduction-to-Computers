{
  "nbformat": 4,
  "nbformat_minor": 0,
  "metadata": {
    "colab": {
      "provenance": [],
      "authorship_tag": "ABX9TyPIN3y9ItuEu5bxhgTIqM4u",
      "include_colab_link": true
    },
    "kernelspec": {
      "name": "python3",
      "display_name": "Python 3"
    },
    "language_info": {
      "name": "python"
    }
  },
  "cells": [
    {
      "cell_type": "markdown",
      "metadata": {
        "id": "view-in-github",
        "colab_type": "text"
      },
      "source": [
        "<a href=\"https://colab.research.google.com/github/Aaanna0628/Introduction-to-Computers/blob/main/Untitled9.ipynb\" target=\"_parent\"><img src=\"https://colab.research.google.com/assets/colab-badge.svg\" alt=\"Open In Colab\"/></a>"
      ]
    },
    {
      "cell_type": "code",
      "source": [
        "print(\"0515\")"
      ],
      "metadata": {
        "colab": {
          "base_uri": "https://localhost:8080/"
        },
        "id": "qrQdAUkZSjUl",
        "outputId": "91cf453d-295b-4229-8c50-9021a21861c3"
      },
      "execution_count": 2,
      "outputs": [
        {
          "output_type": "stream",
          "name": "stdout",
          "text": [
            "0515\n"
          ]
        }
      ]
    },
    {
      "cell_type": "code",
      "execution_count": 50,
      "metadata": {
        "colab": {
          "base_uri": "https://localhost:8080/"
        },
        "id": "Efo1aJpMROsm",
        "outputId": "e8e35d87-de08-46dd-ea0d-67c63590fef8"
      },
      "outputs": [
        {
          "output_type": "stream",
          "name": "stdout",
          "text": [
            "今天會下雨嗎？no\n",
            "不用帶雨傘\n"
          ]
        }
      ],
      "source": [
        "天氣 = str(input(\"今天會下雨嗎？\"))\n",
        "if (天氣==\"Ｙes\" or 天氣==\"yes\"):\n",
        "  print(\"記得帶雨傘\")\n",
        "if (天氣==\"No\" or 天氣==\"no\"):\n",
        "  print(\"不用帶雨傘\")"
      ]
    },
    {
      "cell_type": "code",
      "source": [
        "temperature = int(input(\"temperature: \"))\n",
        "if temperature >= 37.5:\n",
        "  print('result is: 體溫過高')\n",
        "elif temperature >= 37:\n",
        "  print('result is: 體溫略高')\n",
        "elif temperature >= 34:\n",
        "  print('result is: 體溫正常')\n",
        "else:\n",
        "  print('result is: 體溫異常,請重新測量')"
      ],
      "metadata": {
        "colab": {
          "base_uri": "https://localhost:8080/"
        },
        "id": "pfXloykqRQit",
        "outputId": "22f6f77d-a67e-4f60-fa67-bb681da6b0bc"
      },
      "execution_count": 41,
      "outputs": [
        {
          "output_type": "stream",
          "name": "stdout",
          "text": [
            "temperature: 36\n",
            "result is: 體溫正常\n"
          ]
        }
      ]
    },
    {
      "cell_type": "code",
      "source": [
        "score = int(input(\"score: \"))\n",
        "if score >= 90:\n",
        "    print('Grade is: A')\n",
        "elif score >= 80:\n",
        "    print('Grade is: B')\n",
        "elif score >= 70:\n",
        "    print('Grade is: C')\n",
        "elif score >= 60:\n",
        "    print('Grade is: D')\n",
        "else:\n",
        "    print('Grade is: E')"
      ],
      "metadata": {
        "colab": {
          "base_uri": "https://localhost:8080/"
        },
        "id": "Rj28BseZRQcN",
        "outputId": "ddabf8f8-6c01-4bc9-8727-21a8f60c3748"
      },
      "execution_count": 16,
      "outputs": [
        {
          "output_type": "stream",
          "name": "stdout",
          "text": [
            "score: 40\n",
            "Grade is: E\n"
          ]
        }
      ]
    },
    {
      "cell_type": "code",
      "source": [
        "month = str(input(\"請輸入月份: \"))\n",
        "if month == \"3\" or month == \"4\" or month == \"5\":\n",
        "  print('season is: {}月是春天')\n",
        "elif month == \"6\" or month == \"7\" or month == \"8\":\n",
        "  print('season is: {}月是夏天')\n",
        "elif month == \"9\" or month == \"10\" or month == \"11\":\n",
        "  print('season is: {}月是秋天')\n",
        "elif month == \"12\" or month == \"1\" or month == \"2\":\n",
        "  print('season is: {}月是冬天')\n",
        "else:\n",
        "  print('season is: 月份不在範圍內')"
      ],
      "metadata": {
        "colab": {
          "base_uri": "https://localhost:8080/"
        },
        "id": "fJadjCIDRQYz",
        "outputId": "57891511-d80e-4cc9-eccc-204d430b659d"
      },
      "execution_count": 56,
      "outputs": [
        {
          "output_type": "stream",
          "name": "stdout",
          "text": [
            "請輸入月份: 4\n",
            "season is: {}月是春天\n"
          ]
        }
      ]
    },
    {
      "cell_type": "code",
      "source": [
        "revenue = int(input(\"請輸入今年收入淨額: \"))\n",
        "if revenue >= 2000000:\n",
        "  print('稅率 is: 0.3')\n",
        "elif revenue >= 1000000:\n",
        "  print('稅率 is: 0.21')\n",
        "elif revenue >= 600000:\n",
        "  print('稅率 is: 0.13')\n",
        "elif revenue >= 300000:\n",
        "  print('稅率 is: 0.06')\n",
        "else:\n",
        "  print('稅率 is: 0')"
      ],
      "metadata": {
        "colab": {
          "base_uri": "https://localhost:8080/"
        },
        "id": "dqBRt6rvRQVK",
        "outputId": "57f17d36-8ef2-4373-802b-81dca9fc9dcc"
      },
      "execution_count": 53,
      "outputs": [
        {
          "output_type": "stream",
          "name": "stdout",
          "text": [
            "請輸入今年收入淨額: 500000\n",
            "稅率 is: 0.06\n"
          ]
        }
      ]
    }
  ]
}